{
 "cells": [
  {
   "cell_type": "code",
   "id": "initial_id",
   "metadata": {
    "collapsed": true,
    "ExecuteTime": {
     "end_time": "2024-11-30T23:43:03.636510Z",
     "start_time": "2024-11-30T23:43:03.628106Z"
    }
   },
   "source": [
    "import secrets\n",
    "\n",
    "# Generate a 32-character random hex string\n",
    "access_key = secrets.token_hex(32)\n",
    "\n",
    "print(\"Your Secure Access Key:\", access_key)"
   ],
   "outputs": [
    {
     "name": "stdout",
     "output_type": "stream",
     "text": [
      "Your Secure Access Key: 986c8bbd4bdf23351170bc49833366ce3238d78146b7c109799f0983e43b3d2e\n"
     ]
    }
   ],
   "execution_count": 1
  },
  {
   "metadata": {},
   "cell_type": "code",
   "outputs": [],
   "execution_count": null,
   "source": "",
   "id": "2331a494ea8ba58f"
  }
 ],
 "metadata": {
  "kernelspec": {
   "display_name": "Python 3",
   "language": "python",
   "name": "python3"
  },
  "language_info": {
   "codemirror_mode": {
    "name": "ipython",
    "version": 2
   },
   "file_extension": ".py",
   "mimetype": "text/x-python",
   "name": "python",
   "nbconvert_exporter": "python",
   "pygments_lexer": "ipython2",
   "version": "2.7.6"
  }
 },
 "nbformat": 4,
 "nbformat_minor": 5
}
